{
 "cells": [
  {
   "cell_type": "markdown",
   "metadata": {},
   "source": [
    "# Tentative Table of content:\n",
    "#### 1. Goal of the tutorial\n",
    "#### 2. What is RSA! What could we use it for?\n",
    "#### 3. How to build an RDM?\n",
    "#### 4. Getting real: loading a brain dataset (fMRI or MEG ?)\n",
    "#### 5. Prepare the data in the format we need\n",
    "#### 6. Build and visualise the RDM (for different brain regions)\n",
    "#### 7. Getting a pretrained model on Object Recognition!\n",
    "#### 8. Extracting Activations! Building RDMs\n",
    "#### 9. Computing RSA and visualizing results\n",
    "#### 10. What about other modalities ! M/EEG ?\n",
    "#### 11. Noise Ceiling and Untrained models!\n",
    "\n",
    "#### List of exercies\n"
   ]
  },
  {
   "cell_type": "markdown",
   "metadata": {},
   "source": []
  }
 ],
 "metadata": {
  "language_info": {
   "name": "python"
  }
 },
 "nbformat": 4,
 "nbformat_minor": 2
}
